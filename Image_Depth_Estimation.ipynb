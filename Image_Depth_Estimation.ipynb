{
  "nbformat": 4,
  "nbformat_minor": 0,
  "metadata": {
    "colab": {
      "provenance": []
    },
    "kernelspec": {
      "name": "python3",
      "display_name": "Python 3"
    },
    "language_info": {
      "name": "python"
    }
  },
  "cells": [
    {
      "cell_type": "code",
      "execution_count": 1,
      "metadata": {
        "colab": {
          "base_uri": "https://localhost:8080/"
        },
        "id": "xMG3xj6nDKUJ",
        "outputId": "4c8d9bf9-2934-4d43-d8e3-8a537f780361"
      },
      "outputs": [
        {
          "output_type": "stream",
          "name": "stdout",
          "text": [
            "Downloading...\n",
            "From: https://drive.google.com/uc?id=14gf8bcym_lTcvjZQmg8kwq3aXkENBxMQ\n",
            "To: /content/tsukuba.zip\n",
            "\r  0% 0.00/354k [00:00<?, ?B/s]\r100% 354k/354k [00:00<00:00, 48.6MB/s]\n"
          ]
        }
      ],
      "source": [
        "!gdown \"https://drive.google.com/uc?id=14gf8bcym_lTcvjZQmg8kwq3aXkENBxMQ\""
      ]
    },
    {
      "cell_type": "code",
      "source": [
        "!gdown \"https://drive.google.com/uc?id=1wxmiUdqMciuTOs0ouKEISl8-iTVXdOWn\"\n"
      ],
      "metadata": {
        "colab": {
          "base_uri": "https://localhost:8080/"
        },
        "id": "OH_L4GlrDsGl",
        "outputId": "9880d81a-218a-405f-e1b0-21e3e096ad61"
      },
      "execution_count": 2,
      "outputs": [
        {
          "output_type": "stream",
          "name": "stdout",
          "text": [
            "Downloading...\n",
            "From: https://drive.google.com/uc?id=1wxmiUdqMciuTOs0ouKEISl8-iTVXdOWn\n",
            "To: /content/Aloe_images.zip\n",
            "\r  0% 0.00/1.32M [00:00<?, ?B/s]\r100% 1.32M/1.32M [00:00<00:00, 102MB/s]\n"
          ]
        }
      ]
    },
    {
      "cell_type": "code",
      "source": [
        "!unzip tsukuba.zip"
      ],
      "metadata": {
        "colab": {
          "base_uri": "https://localhost:8080/"
        },
        "id": "B3ps72CCHJOA",
        "outputId": "898aa061-3560-489d-90b7-cc68c2623b7a"
      },
      "execution_count": 3,
      "outputs": [
        {
          "output_type": "stream",
          "name": "stdout",
          "text": [
            "Archive:  tsukuba.zip\n",
            "warning:  stripped absolute path spec from /\n",
            "mapname:  conversion of  failed\n",
            " extracting: left.png                \n",
            " extracting: right.png               \n",
            " extracting: groundtruth.png         \n"
          ]
        }
      ]
    },
    {
      "cell_type": "code",
      "source": [
        "!unzip Aloe_images.zip"
      ],
      "metadata": {
        "colab": {
          "base_uri": "https://localhost:8080/"
        },
        "id": "28hcWomeHMfP",
        "outputId": "895dbc54-a623-4b49-bbf2-b66170f553c8"
      },
      "execution_count": 4,
      "outputs": [
        {
          "output_type": "stream",
          "name": "stdout",
          "text": [
            "Archive:  Aloe_images.zip\n",
            "  inflating: Aloe/Aloe_left_1.png    \n",
            "  inflating: Aloe/Aloe_right_3.png   \n",
            "  inflating: Aloe/Aloe_right_1.png   \n",
            "  inflating: Aloe/Aloe_right_2.png   \n",
            "  inflating: Aloe/Disparity_map_corr.png  \n"
          ]
        }
      ]
    },
    {
      "cell_type": "markdown",
      "source": [
        "### Problem 1\n",
        "- Problem 1: Xây dựng hàm tính disparity map của hai ảnh stereo đầu vào (ảnh bên trái (L) và ảnh bên phải (R)) theo phương thức pixel-wise matching."
      ],
      "metadata": {
        "id": "r2Uc3VoBGRFD"
      }
    },
    {
      "cell_type": "code",
      "source": [
        "import cv2\n",
        "import numpy as np\n",
        "\n",
        "def distance(x, y):\n",
        "    return abs(x - y)\n",
        "\n",
        "def pixel_wise_matching(left_img, right_img, disparity_range, save_result=True):\n",
        "    # Read left and right images then convert to grayscale\n",
        "    left = cv2.imread(left_img, 0)\n",
        "    right = cv2.imread(right_img, 0)\n",
        "\n",
        "    left = left.astype(np.float32)\n",
        "    right = right.astype(np.float32)\n",
        "\n",
        "    height, width = left.shape[:2]\n",
        "\n",
        "    # Create a blank disparity map\n",
        "    depth = np.zeros((height, width), np.uint8)\n",
        "    scale = 16\n",
        "    max_value = 255\n",
        "\n",
        "    for y in range(height):\n",
        "        for x in range(width):\n",
        "            # Find j where cost has minimum value\n",
        "            disparity = 0\n",
        "            cost_min = max_value\n",
        "\n",
        "            for j in range(disparity_range):\n",
        "                cost = max_value if (x - j) < 0 else distance(int(left[y, x]), int(right[y, x - j]))\n",
        "\n",
        "                if cost < cost_min:\n",
        "                    cost_min = cost\n",
        "                    disparity = j\n",
        "\n",
        "            # Let depth at (y, x) = j (disparity)\n",
        "            # Multiply by a scale factor for visualization purposes\n",
        "            depth[y, x] = disparity * scale\n",
        "\n",
        "    if save_result:\n",
        "        print('Saving result...')\n",
        "        # Save results\n",
        "        cv2.imwrite('pixel_wise_l1.png', depth)\n",
        "        cv2.imwrite('pixel_wise_l1_color.png', cv2.applyColorMap(depth, cv2.COLORMAP_JET))\n",
        "\n",
        "    print('Done.')\n",
        "\n",
        "    return depth\n"
      ],
      "metadata": {
        "id": "3h4menxuEeCX"
      },
      "execution_count": 5,
      "outputs": []
    },
    {
      "cell_type": "code",
      "source": [
        "def distance_l1(x, y):\n",
        "    return abs(x - y)\n",
        "\n",
        "def pixel_wise_matching_l1(left_img, right_img, disparity_range, save_result=True):\n",
        "    # Read left and right images then convert to grayscale\n",
        "    left = cv2.imread(left_img, 0)\n",
        "    right = cv2.imread(right_img, 0)\n",
        "\n",
        "    left = left.astype(np.float32)\n",
        "    right = right.astype(np.float32)\n",
        "\n",
        "    height, width = left.shape[:2]\n",
        "\n",
        "    # Create a blank disparity map\n",
        "    depth = np.zeros((height, width), np.uint8)\n",
        "    scale = 16\n",
        "    max_value = 255\n",
        "\n",
        "    for y in range(height):\n",
        "        for x in range(width):\n",
        "            # Find j where cost has minimum value\n",
        "            disparity = 0\n",
        "            cost_min = max_value\n",
        "\n",
        "            for j in range(disparity_range):\n",
        "                cost = max_value if (x - j) < 0 else distance_l1(int(left[y, x]), int(right[y, x - j]))\n",
        "\n",
        "                if cost < cost_min:\n",
        "                    cost_min = cost\n",
        "                    disparity = j\n",
        "\n",
        "            # Let depth at (y, x) = j (disparity)\n",
        "            # Multiply by a scale factor for visualization purposes\n",
        "            depth[y, x] = disparity * scale\n",
        "\n",
        "    if save_result:\n",
        "        print('Saving result...')\n",
        "        # Save results\n",
        "        cv2.imwrite('pixel_wise_l1.png', depth)\n",
        "        cv2.imwrite('pixel_wise_l1_color.png', cv2.applyColorMap(depth, cv2.COLORMAP_JET))\n",
        "\n",
        "    print('Done.')\n",
        "\n",
        "    return depth"
      ],
      "metadata": {
        "id": "On1BchQxFcoc"
      },
      "execution_count": 6,
      "outputs": []
    },
    {
      "cell_type": "code",
      "source": [
        "def distance_l2(x, y):\n",
        "    return (x - y) ** 2\n",
        "\n",
        "def pixel_wise_matching_l2(left_img, right_img, disparity_range, save_result=True):\n",
        "    # Read left and right images then convert to grayscale\n",
        "    left = cv2.imread(left_img, 0)\n",
        "    right = cv2.imread(right_img, 0)\n",
        "\n",
        "    left = left.astype(np.float32)\n",
        "    right = right.astype(np.float32)\n",
        "\n",
        "    height, width = left.shape[:2]\n",
        "\n",
        "    # Create a blank disparity map\n",
        "    depth = np.zeros((height, width), np.uint8)\n",
        "    scale = 16\n",
        "    max_value = 255\n",
        "\n",
        "    for y in range(height):\n",
        "        for x in range(width):\n",
        "            # Find j where cost has minimum value\n",
        "            disparity = 0\n",
        "            cost_min = max_value\n",
        "\n",
        "            for j in range(disparity_range):\n",
        "                cost = max_value if (x - j) < 0 else distance_l2(int(left[y, x]), int(right[y, x - j]))\n",
        "\n",
        "                if cost < cost_min:\n",
        "                    cost_min = cost\n",
        "                    disparity = j\n",
        "\n",
        "            # Let depth at (y, x) = j (disparity)\n",
        "            # Multiply by a scale factor for visualization purposes\n",
        "            depth[y, x] = disparity * scale\n",
        "\n",
        "    if save_result:\n",
        "        print('Saving result...')\n",
        "        # Save results\n",
        "        cv2.imwrite('pixel_wise_l2.png', depth)\n",
        "        cv2.imwrite('pixel_wise_l2_color.png', cv2.applyColorMap(depth, cv2.COLORMAP_JET))\n",
        "\n",
        "    print('Done.')\n",
        "\n",
        "    return depth"
      ],
      "metadata": {
        "id": "lcEeL1EfFmTG"
      },
      "execution_count": 7,
      "outputs": []
    },
    {
      "cell_type": "code",
      "source": [
        "left_img_path = 'tsukuba/left.png'\n",
        "right_img_path = 'tsukuba/right.png'\n",
        "disparity_range = 16\n",
        "\n",
        "# Process with L1 norm\n",
        "pixel_wise_result_l1 = pixel_wise_matching_l1(\n",
        "    left_img_path,\n",
        "    right_img_path,\n",
        "    disparity_range,\n",
        "    save_result=True\n",
        ")"
      ],
      "metadata": {
        "colab": {
          "base_uri": "https://localhost:8080/"
        },
        "id": "SvVDVJsqEqei",
        "outputId": "d49864e4-3e7a-4e3d-b502-9afa270d5f5d"
      },
      "execution_count": 8,
      "outputs": [
        {
          "output_type": "stream",
          "name": "stdout",
          "text": [
            "Saving result...\n",
            "Done.\n"
          ]
        }
      ]
    },
    {
      "cell_type": "code",
      "source": [
        "\n",
        "# Process with L2 norm\n",
        "pixel_wise_result_l2 = pixel_wise_matching_l2(\n",
        "    left_img_path,\n",
        "    right_img_path,\n",
        "    disparity_range,\n",
        "    save_result=True\n",
        ")"
      ],
      "metadata": {
        "colab": {
          "base_uri": "https://localhost:8080/"
        },
        "id": "D4PNthbgF2Eo",
        "outputId": "7b7dc2d0-2c7f-48db-eab0-5777bcd2e9ed"
      },
      "execution_count": 9,
      "outputs": [
        {
          "output_type": "stream",
          "name": "stdout",
          "text": [
            "Saving result...\n",
            "Done.\n"
          ]
        }
      ]
    },
    {
      "cell_type": "markdown",
      "source": [
        "### Problem 2\n",
        "- Xây dựng hàm tính disparity map của hai ảnh stereo đầu vào (ảnh bên trái (L) và ảnh bên phải (R)) theo phương thức window-based matching. Các bước tính toán trong."
      ],
      "metadata": {
        "id": "H_xgHZ9WGHaH"
      }
    },
    {
      "cell_type": "code",
      "source": [
        "import cv2\n",
        "import numpy as np\n",
        "\n",
        "def distance(x, y):\n",
        "    return abs(x - y)\n",
        "\n",
        "def window_based_matching(left_img, right_img, disparity_range, kernel_size=5, save_result=True):\n",
        "    # Read left, right images then convert to grayscale\n",
        "    left = cv2.imread(left_img, 0)\n",
        "    right = cv2.imread(right_img, 0)\n",
        "\n",
        "    left = left.astype(np.float32)\n",
        "    right = right.astype(np.float32)\n",
        "\n",
        "    height, width = left.shape[:2]\n",
        "\n",
        "    # Create a blank disparity map\n",
        "    depth = np.zeros((height, width), np.uint8)\n",
        "\n",
        "    kernel_half = int((kernel_size - 1) / 2)\n",
        "    scale = 3\n",
        "    max_value = 255 * 9\n",
        "\n",
        "    for y in range(kernel_half, height - kernel_half):\n",
        "        for x in range(kernel_half, width - kernel_half):\n",
        "            # Find j where cost has minimum value\n",
        "            disparity = 0\n",
        "            cost_min = 65534\n",
        "\n",
        "            for j in range(disparity_range):\n",
        "                total = 0\n",
        "                value = 0\n",
        "\n",
        "                for v in range(-kernel_half, kernel_half + 1):\n",
        "                    for u in range(-kernel_half, kernel_half + 1):\n",
        "                        value = max_value\n",
        "                        if (x + u - j) >= 0:\n",
        "                            value = distance(\n",
        "                                int(left[y + v, x + u]), int(right[y + v, (x + u) - j])\n",
        "                            )\n",
        "                        total += value\n",
        "\n",
        "                if total < cost_min:\n",
        "                    cost_min = total\n",
        "                    disparity = j\n",
        "\n",
        "            # Let depth at (y, x) = j (disparity)\n",
        "            # Multiply by a scale factor for visualization purposes\n",
        "            depth[y, x] = disparity * scale\n",
        "\n",
        "    if save_result:\n",
        "        print('Saving result...')\n",
        "        # Save results\n",
        "        cv2.imwrite('window_based_l1.png', depth)\n",
        "        cv2.imwrite('window_based_l1_color.png', cv2.applyColorMap(depth, cv2.COLORMAP_JET))\n",
        "\n",
        "    print('Done.')\n",
        "\n",
        "    return depth\n"
      ],
      "metadata": {
        "id": "16HYy_itGf1A"
      },
      "execution_count": 10,
      "outputs": []
    },
    {
      "cell_type": "code",
      "source": [
        "import cv2\n",
        "import numpy as np\n",
        "\n",
        "def distance_l1(x, y):\n",
        "    return abs(x - y)\n",
        "\n",
        "def window_based_matching_l1(left_img, right_img, disparity_range, kernel_size=5, save_result=True):\n",
        "    # Read left, right images then convert to grayscale\n",
        "    left = cv2.imread(left_img, 0)\n",
        "    right = cv2.imread(right_img, 0)\n",
        "\n",
        "    left = left.astype(np.float32)\n",
        "    right = right.astype(np.float32)\n",
        "\n",
        "    height, width = left.shape[:2]\n",
        "\n",
        "    # Create a blank disparity map\n",
        "    depth = np.zeros((height, width), np.uint8)\n",
        "\n",
        "    kernel_half = int((kernel_size - 1) / 2)\n",
        "    scale = 3\n",
        "    max_value = 255 * 9\n",
        "\n",
        "    for y in range(kernel_half, height - kernel_half):\n",
        "        for x in range(kernel_half, width - kernel_half):\n",
        "            # Find j where cost has minimum value\n",
        "            disparity = 0\n",
        "            cost_min = 65534\n",
        "\n",
        "            for j in range(disparity_range):\n",
        "                total = 0\n",
        "                value = 0\n",
        "\n",
        "                for v in range(-kernel_half, kernel_half + 1):\n",
        "                    for u in range(-kernel_half, kernel_half + 1):\n",
        "                        value = max_value\n",
        "                        if (x + u - j) >= 0:\n",
        "                            value = distance_l1(\n",
        "                                int(left[y + v, x + u]), int(right[y + v, (x + u) - j])\n",
        "                            )\n",
        "                        total += value\n",
        "\n",
        "                if total < cost_min:\n",
        "                    cost_min = total\n",
        "                    disparity = j\n",
        "\n",
        "            # Let depth at (y, x) = j (disparity)\n",
        "            # Multiply by a scale factor for visualization purposes\n",
        "            depth[y, x] = disparity * scale\n",
        "\n",
        "    if save_result:\n",
        "        print('Saving result...')\n",
        "        # Save results\n",
        "        cv2.imwrite('window_based_l1.png', depth)\n",
        "        cv2.imwrite('window_based_l1_color.png', cv2.applyColorMap(depth, cv2.COLORMAP_JET))\n",
        "\n",
        "    print('Done.')\n",
        "\n",
        "    return depth\n"
      ],
      "metadata": {
        "id": "6wQLPTpeIfIk"
      },
      "execution_count": 11,
      "outputs": []
    },
    {
      "cell_type": "code",
      "source": [
        "import cv2\n",
        "import numpy as np\n",
        "\n",
        "def distance_l2(x, y):\n",
        "    return (x - y) ** 2\n",
        "\n",
        "def window_based_matching_l2(left_img, right_img, disparity_range, kernel_size=5, save_result=True):\n",
        "    # Read left, right images then convert to grayscale\n",
        "    left = cv2.imread(left_img, 0)\n",
        "    right = cv2.imread(right_img, 0)\n",
        "\n",
        "    left = left.astype(np.float32)\n",
        "    right = right.astype(np.float32)\n",
        "\n",
        "    height, width = left.shape[:2]\n",
        "\n",
        "    # Create a blank disparity map\n",
        "    depth = np.zeros((height, width), np.uint8)\n",
        "\n",
        "    kernel_half = int((kernel_size - 1) / 2)\n",
        "    scale = 3\n",
        "    max_value = 255 * 9\n",
        "\n",
        "    for y in range(kernel_half, height - kernel_half):\n",
        "        for x in range(kernel_half, width - kernel_half):\n",
        "            # Find j where cost has minimum value\n",
        "            disparity = 0\n",
        "            cost_min = 65534\n",
        "\n",
        "            for j in range(disparity_range):\n",
        "                total = 0\n",
        "                value = 0\n",
        "\n",
        "                for v in range(-kernel_half, kernel_half + 1):\n",
        "                    for u in range(-kernel_half, kernel_half + 1):\n",
        "                        value = max_value\n",
        "                        if (x + u - j) >= 0:\n",
        "                            value = distance_l2(\n",
        "                                int(left[y + v, x + u]), int(right[y + v, (x + u) - j])\n",
        "                            )\n",
        "                        total += value\n",
        "\n",
        "                if total < cost_min:\n",
        "                    cost_min = total\n",
        "                    disparity = j\n",
        "\n",
        "            # Let depth at (y, x) = j (disparity)\n",
        "            # Multiply by a scale factor for visualization purposes\n",
        "            depth[y, x] = disparity * scale\n",
        "\n",
        "    if save_result:\n",
        "        print('Saving result...')\n",
        "        # Save results\n",
        "        cv2.imwrite('window_based_l2.png', depth)\n",
        "        cv2.imwrite('window_based_l2_color.png', cv2.applyColorMap(depth, cv2.COLORMAP_JET))\n",
        "\n",
        "    print('Done.')\n",
        "\n",
        "    return depth\n"
      ],
      "metadata": {
        "id": "I8K0Bl8fI3fg"
      },
      "execution_count": 15,
      "outputs": []
    },
    {
      "cell_type": "code",
      "source": [
        "left_img_path = 'Aloe/Aloe_left_1.png'\n",
        "right_img_path = 'Aloe/Aloe_right_1.png'\n",
        "disparity_range = 64\n",
        "kernel_size = 3\n",
        "\n",
        "# Run window-based matching with L1 norm\n",
        "window_based_result = window_based_matching_l1(\n",
        "    left_img_path,\n",
        "    right_img_path,\n",
        "    disparity_range,\n",
        "    kernel_size=kernel_size,\n",
        "    save_result=True\n",
        ")\n",
        "\n",
        "# Saving result ...\n",
        "# Done."
      ],
      "metadata": {
        "colab": {
          "base_uri": "https://localhost:8080/"
        },
        "id": "gb8IDaIGJLoX",
        "outputId": "137bbf6b-02c9-46e2-adda-6a07b9895a56"
      },
      "execution_count": 13,
      "outputs": [
        {
          "output_type": "stream",
          "name": "stdout",
          "text": [
            "Saving result...\n",
            "Done.\n",
            "Saving result...\n",
            "Done.\n"
          ]
        }
      ]
    },
    {
      "cell_type": "code",
      "source": [
        "# Run window-based matching with L2 norm\n",
        "window_based_result = window_based_matching_l2(\n",
        "    left_img_path,\n",
        "    right_img_path,\n",
        "    disparity_range,\n",
        "    kernel_size=kernel_size,\n",
        "    save_result=True\n",
        ")\n",
        "\n",
        "# Saving result ...\n",
        "# Done."
      ],
      "metadata": {
        "id": "ykOQmgQxLqxS",
        "outputId": "8d1305b5-2f8e-4f0a-a95e-f645850b3cec",
        "colab": {
          "base_uri": "https://localhost:8080/"
        }
      },
      "execution_count": 16,
      "outputs": [
        {
          "output_type": "stream",
          "name": "stdout",
          "text": [
            "Saving result...\n",
            "Done.\n"
          ]
        }
      ]
    },
    {
      "cell_type": "code",
      "source": [
        "import cv2\n",
        "import numpy as np\n",
        "\n",
        "def cosine_similarity(x, y):\n",
        "    numerator = np.dot(x, y)\n",
        "    denominator = np.linalg.norm(x) * np.linalg.norm(y)\n",
        "    return numerator / denominator\n",
        "\n",
        "def window_based_matching(left_img, right_img, disparity_range, kernel_size=5, save_result=True):\n",
        "    # Read left, right images then convert to grayscale\n",
        "    left = cv2.imread(left_img, 0)\n",
        "    right = cv2.imread(right_img, 0)\n",
        "\n",
        "    left = left.astype(np.float32)\n",
        "    right = right.astype(np.float32)\n",
        "\n",
        "    height, width = left.shape[:2]\n",
        "\n",
        "    # Create blank disparity map\n",
        "    depth = np.zeros((height, width), np.uint8)\n",
        "    kernel_half = int((kernel_size - 1) / 2)\n",
        "    scale = 3\n",
        "\n",
        "    for y in range(kernel_half, height - kernel_half):\n",
        "        for x in range(kernel_half, width - kernel_half):\n",
        "            # Find j where cost has minimum value\n",
        "            disparity = 0\n",
        "            cost_optimal = -1\n",
        "\n",
        "            for j in range(disparity_range):\n",
        "                d = x - j\n",
        "                cost = -1\n",
        "                if (d - kernel_half) > 0:\n",
        "\n",
        "                    wp = left[(y - kernel_half):(y + kernel_half) + 1, (x - kernel_half):(x + kernel_half) + 1]\n",
        "                    wqd = right[(y - kernel_half):(y + kernel_half) + 1, (d - kernel_half):(d + kernel_half) + 1]\n",
        "\n",
        "                    wp_flattened = wp.flatten()\n",
        "                    wqd_flattened = wqd.flatten()\n",
        "\n",
        "                    cost = cosine_similarity(wp_flattened, wqd_flattened)\n",
        "\n",
        "                if cost > cost_optimal:\n",
        "                    cost_optimal = cost\n",
        "                    disparity = j\n",
        "\n",
        "            # Let depth at (y, x) = j (disparity)\n",
        "            # Multiply by a scale factor for visualization purpose\n",
        "            depth[y, x] = disparity * scale\n",
        "\n",
        "    if save_result == True:\n",
        "        print('Saving result...')\n",
        "        # Save results\n",
        "        cv2.imwrite('window_based_cosine_similarity.png', depth)\n",
        "        cv2.imwrite('window_based_cosine_similarity_color.png', cv2.applyColorMap(depth, cv2.COLORMAP_JET))\n",
        "\n",
        "        print('Done.')\n",
        "\n",
        "    return depth\n"
      ],
      "metadata": {
        "id": "aE3cWrbALMaH"
      },
      "execution_count": 14,
      "outputs": []
    },
    {
      "cell_type": "code",
      "source": [
        "left_img_path = 'Aloe/Aloe_left_1.png'\n",
        "right_img_path = 'Aloe/Aloe_right_1.png'\n",
        "disparity_range = 64\n",
        "kernel_size = 3\n",
        "\n",
        "# Run window-based matching with cosine similarity\n",
        "window_based_result = window_based_matching(\n",
        "    left_img_path,\n",
        "    right_img_path,\n",
        "    disparity_range,\n",
        "    kernel_size=kernel_size,\n",
        "    save_result=True\n",
        ")\n"
      ],
      "metadata": {
        "id": "vM0q8QwILfGH",
        "outputId": "170007a6-0d05-423d-e8e6-fe31fae26f97",
        "colab": {
          "base_uri": "https://localhost:8080/"
        }
      },
      "execution_count": 17,
      "outputs": [
        {
          "output_type": "stream",
          "name": "stdout",
          "text": [
            "Saving result...\n",
            "Done.\n"
          ]
        }
      ]
    }
  ]
}